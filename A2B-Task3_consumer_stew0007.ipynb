{
 "cells": [
  {
   "cell_type": "markdown",
   "metadata": {},
   "source": [
    "## Consuming data using Kafka and Visualise (20%) .  \n",
    "In this task, we will implement an Apache Kafka consumer to consume the data from Part 2.  \n",
    "\n",
    "Important:  \n",
    "-\tIn this part, Kafka consumers are used to consume the streaming data published from task 2.8.  \n",
    "-\tThis part doesn’t require parallel processing, and please do not use Spark in this part. It’s OK to use Pandas or any Python library to do simple calculations for the visualisation.  "
   ]
  },
  {
   "cell_type": "code",
   "execution_count": null,
   "metadata": {},
   "outputs": [],
   "source": []
  },
  {
   "cell_type": "markdown",
   "metadata": {},
   "source": [
    "## 1.\t(Basic plot) Plot a diagram with two subplots to show the following:  \n",
    "a)\tLeft subplot: Show a bar chart of potential fraud count every 10 seconds(visualise data from 7a);  \n",
    "b)\tRight Subplot: Show a line chart of cumulative sales of top 20 products (non-fraud, sum of product*qty), update every 30 seconds. (visualise data from 7b) .  \n",
    "\n"
   ]
  },
  {
   "cell_type": "markdown",
   "metadata": {},
   "source": [
    "### 2.\t(Advanced plot, open question) Be creative and create an advanced plot (not a line/bar chart).  \n",
    "For example, plot a choropleth or bubble map to show where the fraudulent transaction happens the most.  \n",
    "Choropleth: https://python-graph-gallery.com/choropleth-map/  \n",
    "Bubble Map: https://python-graph-gallery.com/bubble-map/  \n",
    "Note: Both plots shall be real-time plots, which will be updated if new streaming data comes in from part 2. For the advanced plot, if you need additional data for the plots, you can add them in part 2.  "
   ]
  },
  {
   "cell_type": "code",
   "execution_count": null,
   "metadata": {},
   "outputs": [],
   "source": []
  }
 ],
 "metadata": {
  "kernelspec": {
   "display_name": "Python 3 (ipykernel)",
   "language": "python",
   "name": "python3"
  },
  "language_info": {
   "codemirror_mode": {
    "name": "ipython",
    "version": 3
   },
   "file_extension": ".py",
   "mimetype": "text/x-python",
   "name": "python",
   "nbconvert_exporter": "python",
   "pygments_lexer": "ipython3",
   "version": "3.10.13"
  },
  "vscode": {
   "interpreter": {
    "hash": "5c7b89af1651d0b8571dde13640ecdccf7d5a6204171d6ab33e7c296e100e08a"
   }
  }
 },
 "nbformat": 4,
 "nbformat_minor": 4
}
